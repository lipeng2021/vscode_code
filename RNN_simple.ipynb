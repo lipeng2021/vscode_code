{
 "cells": [
  {
   "cell_type": "code",
   "execution_count": 223,
   "metadata": {},
   "outputs": [],
   "source": [
    "import torch\n",
    "import torch.nn as nn\n",
    "import time\n",
    "import random\n",
    "import math \n",
    "import zipfile\n",
    "device = torch.device('cuda' if torch.cuda.is_available()else 'cpu')\n"
   ]
  },
  {
   "cell_type": "code",
   "execution_count": 224,
   "metadata": {},
   "outputs": [],
   "source": [
    "def load_data_lyrics():\n",
    "    with zipfile.ZipFile('/home/data/jaychou_lyrics.txt.zip')as zin:\n",
    "        with zin.open('jaychou_lyrics.txt') as f:\n",
    "            corpus_chars = f.read().decode('utf-8')\n",
    "    corpus_chars = corpus_chars.replace('\\n',' ').replace('\\r',' ')\n",
    "    corpus_chars = corpus_chars[:10000]\n",
    "    idx_to_char = list(set(corpus_chars))\n",
    "    char_to_idx = dict([[char,i]for i,char in enumerate(idx_to_char)])\n",
    "    vocab_size = len(idx_to_char)\n",
    "    corpus_indices = [char_to_idx[char]for char in corpus_chars]\n",
    "    return idx_to_char,char_to_idx,vocab_size,corpus_indices"
   ]
  },
  {
   "cell_type": "code",
   "execution_count": 225,
   "metadata": {},
   "outputs": [],
   "source": [
    "def data_iter_random(corpus_indices,batch_size,num_steps,device=None):\n",
    "    if device==None:\n",
    "        device = torch.device('cuda' if torch.cuda.is_available()else 'cpu')\n",
    "    num_examples = (len(corpus_indices)-1)//num_steps\n",
    "    epoch_examples = num_examples//batch_size\n",
    "    example_indices = list(range(num_examples))\n",
    "    random.shuffle(example_indices)\n",
    "    def _data(pos):\n",
    "        return corpus_indices[pos:pos+num_steps]\n",
    "    for i in range(epoch_examples):\n",
    "        i = i*batch_size\n",
    "        batch_intices = example_indices[i:i+batch_size]\n",
    "        X = [_data(j*num_steps)for j in batch_intices]\n",
    "        Y = [_data(j*num_steps+1)for j in batch_intices]\n",
    "        yield torch.tensor(X,dtype=torch.float32,device=device),torch.tensor(Y,dtype=torch.float32,device=device)"
   ]
  },
  {
   "cell_type": "code",
   "execution_count": 226,
   "metadata": {},
   "outputs": [],
   "source": [
    "def data_iter_consecutive(corpus_indices,batch_size,num_steps,device=None):\n",
    "    if device is None:\n",
    "        device = torch.device('cuda' if torch.cuda.is_available()else 'cpu')\n",
    "    corpus_indices = torch.tensor(corpus_indices,dtype=torch.float32,device=device)\n",
    "    data_len = len(corpus_indices)\n",
    "    num_batch = data_len//batch_size\n",
    "    indices = corpus_indices[0:num_batch*batch_size].view(batch_size,num_batch)\n",
    "    epoch_size = (num_batch-1)//num_steps\n",
    "    for i in range(epoch_size):\n",
    "        i = i*num_steps\n",
    "        X = indices[:,i:i+num_steps]\n",
    "        Y = indices[:,i+1:i+num_steps+1]\n",
    "        yield X,Y\n",
    "    "
   ]
  },
  {
   "cell_type": "code",
   "execution_count": 227,
   "metadata": {},
   "outputs": [],
   "source": [
    "def one_hot(x,n_class,dtype=torch.float32):\n",
    "    x =x.long()\n",
    "    res = torch.zeros(x.shape[0],n_class,dtype = dtype ,device=x.device)\n",
    "    res.scatter_(1,x.view(-1,1),1)\n",
    "    return res"
   ]
  },
  {
   "cell_type": "code",
   "execution_count": 228,
   "metadata": {},
   "outputs": [],
   "source": [
    "def to_onehot(x,n_class):\n",
    "    return [one_hot(x[:,i],n_class)for i in range(x.shape[1])]"
   ]
  },
  {
   "cell_type": "code",
   "execution_count": 229,
   "metadata": {},
   "outputs": [
    {
     "data": {
      "text/plain": [
       "1027"
      ]
     },
     "execution_count": 229,
     "metadata": {},
     "output_type": "execute_result"
    }
   ],
   "source": [
    "idx_to_char,char_to_idx,vocab_size,corpus_indices =  load_data_lyrics()\n",
    "num_hiddens =256\n",
    "rnn_layer = nn.RNN(input_size = vocab_size,hidden_size = num_hiddens)\n",
    "# batch_size = 2\n",
    "# num_steps = 35\n",
    "# state =None\n",
    "# X = torch.rand(num_steps,batch_size,vocab_size)\n",
    "# Y,state_new = rnn_layer(X,state)\n",
    "vocab_size"
   ]
  },
  {
   "cell_type": "code",
   "execution_count": 230,
   "metadata": {},
   "outputs": [],
   "source": [
    "class RNNModel(nn.Module):\n",
    "    def __init__(self,rnn_layer,vocab_size):\n",
    "        super(RNNModel,self).__init__()\n",
    "        self.rnn = rnn_layer\n",
    "        self.hidden_size = rnn_layer.hidden_size * (2 if rnn_layer.bidirectional else 1)\n",
    "        self.vocab_size = vocab_size\n",
    "        self.dense = nn.Linear(self.hidden_size,vocab_size)\n",
    "        self.state = None\n",
    "    def forward(self,inputs,state):\n",
    "        X = to_onehot(inputs,self.vocab_size)\n",
    "        Y ,self.state = self.rnn(torch.stack(X),state)\n",
    "        output = self.dense(Y.view(-1,Y.shape[-1]))\n",
    "        return output,self.state\n",
    "\n"
   ]
  },
  {
   "cell_type": "code",
   "execution_count": 231,
   "metadata": {},
   "outputs": [],
   "source": [
    "model = RNNModel(rnn_layer,vocab_size).to(device)"
   ]
  },
  {
   "cell_type": "code",
   "execution_count": 232,
   "metadata": {},
   "outputs": [],
   "source": [
    "def predict_rnn_pytorch(prefix,num_chars,model,vocab_size,device,idx_to_char,char_to_idx):\n",
    "    state = None\n",
    "    output  = [char_to_idx[prefix[0]]]\n",
    "    for t in range(num_chars+len(prefix)-1):\n",
    "        X = torch.tensor([output[-1]],device=device).view(1,1)\n",
    "        if state is not None:\n",
    "            if isinstance(state,tuple):\n",
    "                state = (state[0].to(device),state[1].to(device))\n",
    "            else:\n",
    "                state = state.to(device)\n",
    "        (Y,state) = model(X,state)\n",
    "        if t < len(prefix)-1:\n",
    "            output.append(char_to_idx[prefix[t+1]])\n",
    "        else:\n",
    "            output.append(int(Y.argmax(dim=1).item()))\n",
    "    return ''.join([idx_to_char[i]for i in output])"
   ]
  },
  {
   "cell_type": "code",
   "execution_count": 233,
   "metadata": {},
   "outputs": [
    {
     "data": {
      "text/plain": [
       "'分开墙画墙向墙猜向画墙向'"
      ]
     },
     "execution_count": 233,
     "metadata": {},
     "output_type": "execute_result"
    }
   ],
   "source": [
    "predict_rnn_pytorch('分开',10,model,vocab_size,device,idx_to_char,char_to_idx)"
   ]
  },
  {
   "cell_type": "code",
   "execution_count": 234,
   "metadata": {},
   "outputs": [],
   "source": [
    "def clip_gradient(params,theta,device):\n",
    "    norm = torch.tensor([0.0],device=device)\n",
    "    for param in params:\n",
    "        norm += (param.grad.data**2).sum()\n",
    "    norm = norm.sqrt().item()\n",
    "    if norm > theta:\n",
    "        for param in params:\n",
    "            param.grad.data *=(theta/norm)"
   ]
  },
  {
   "cell_type": "code",
   "execution_count": 235,
   "metadata": {},
   "outputs": [],
   "source": [
    "def train_and_predict_rnn_pytorch(model,num_hiddens,vocab_size,device,corpus_indices,char_to_idx,idx_to_char,\n",
    "                                    num_epochs,num_steps,lr,clipping_theta,batch_size,pred_period,pred_len,prefixes):\n",
    "    loss = nn.CrossEntropyLoss()\n",
    "    optimizer = torch.optim.Adam(model.parameters(), lr=lr)\n",
    "    model.to(device)\n",
    "    state = None\n",
    "    for  epoch in range(num_epochs):\n",
    "        l_sum = 0.0\n",
    "        n = 0 \n",
    "        start = time.time()\n",
    "        data_iter = data_iter_consecutive(corpus_indices,batch_size,num_steps,device)\n",
    "        for X,Y in data_iter:\n",
    "            if state is not None:\n",
    "                if isinstance(state,tuple):\n",
    "                    state = (state[0].detach(),state[1].detach())\n",
    "                else:\n",
    "                    state = state.detach()\n",
    "            (y_hat,state) = model(X,state)\n",
    "            y = torch.transpose(Y,0,1).contiguous().view(-1)\n",
    "            l= loss(y_hat,y.long())\n",
    "            optimizer.zero_grad()\n",
    "            l.backward()\n",
    "            clip_gradient(model.parameters(),clipping_theta,device)\n",
    "            optimizer.step()\n",
    "            l_sum += l.item()*y.shape[0]\n",
    "            n +=y.shape[0]\n",
    "        try:\n",
    "            perplexity = math.exp(l_sum/n)\n",
    "        except OverflowError:\n",
    "            perplexity = float('inf')\n",
    "        if (epoch+1)%pred_period==0:\n",
    "            print('epoch:%d,loss:%f,time:%.1f'%(epoch+1,perplexity,time.time()-start))\n",
    "            for prefix in prefixes:\n",
    "                print('-',predict_rnn_pytorch(prefix,pred_len,model,vocab_size,device,idx_to_char,char_to_idx))\n",
    "                \n",
    "            \n",
    "\n",
    "            "
   ]
  },
  {
   "cell_type": "code",
   "execution_count": 236,
   "metadata": {},
   "outputs": [
    {
     "name": "stdout",
     "output_type": "stream",
     "text": [
      "epoch:50,loss:11.321599,time:0.0\n",
      "- 分开始我不 你想 我不能再想 我不能再想 我不要再想 我不要再想 我不要再想 我不要再想 我不要再想 我\n",
      "- 不分开 我想要你不你 我的可爱女人 坏坏的让我疯狂的可爱女人 坏坏的让我疯狂的可爱女人 坏坏的让我疯狂的可\n",
      "epoch:100,loss:1.278382,time:0.0\n",
      "- 分开始我像 爸和 当年的模样 说著一口吴侬软语的姑娘缓缓走过外滩 消失的 旧时光 一九四三 回头看 的片\n",
      "- 不分开 我想要你爸微笑每天都能看到  我有种不要再 我知道 是人的梦 如果我遇见你是一场悲剧 我想我这辈子\n",
      "epoch:150,loss:1.068248,time:0.0\n",
      "- 分开 我像 你可  我知就这样打我妈妈 我说你爸在会痛不知不觉 你已经不开我 不知不觉 我跟了这节奏 后\n",
      "- 不分开 我不要再想  一根我不抽痛 能为什么球 它一定实我 载著你 彷彿载著阳光 不管我哪里 是晴天 蝴蝶\n",
      "epoch:200,loss:1.035857,time:0.0\n",
      "- 分开 我手来你的落 一句 我有你看棒球 想这样没担忧 唱着歌 一直走 我想就这样牵着你的手不放开 爱可不\n",
      "- 不分开 我不要再想  一根我不抽开  为什么球  可话的手 谁像一汉堡  想要你的微笑每天都能看到  我知\n",
      "epoch:250,loss:1.048176,time:0.0\n",
      "- 分开 我像大像可妈 我叫就这样爸 我去我爸  你 我不要再风圈来不 我办不这 我不能 平常话不多 除非是\n",
      "- 不分开 我像人的梦 你静的从小 离开我 仙人一怕风 来不同去离你 没有你 我有红烦都一场悲剧 是过完一个人\n"
     ]
    }
   ],
   "source": [
    "num_epochs =250\n",
    "batch_size = 32\n",
    "lr = 1e-3\n",
    "clipping_theta = 1e-2\n",
    "pred_len = 50\n",
    "pred_period = 50\n",
    "num_steps=35\n",
    "prefixes = ['分开','不分开']\n",
    "train_and_predict_rnn_pytorch(model,num_hiddens,vocab_size,device,corpus_indices,char_to_idx,idx_to_char,\n",
    "                                    num_epochs,num_steps,lr,clipping_theta,batch_size,pred_period,pred_len,prefixes)"
   ]
  },
  {
   "cell_type": "code",
   "execution_count": 237,
   "metadata": {},
   "outputs": [
    {
     "name": "stdout",
     "output_type": "stream",
     "text": [
      "公公公公公\n"
     ]
    }
   ],
   "source": [
    "def x():\n",
    "    return ''.join([idx_to_char[i]for i in [1,1,1,1,1]])\n",
    "print(x())"
   ]
  }
 ],
 "metadata": {
  "interpreter": {
   "hash": "2f394aca7ca06fed1e6064aef884364492d7cdda3614a461e02e6407fc40ba69"
  },
  "kernelspec": {
   "display_name": "Python 3.8.10 ('base')",
   "language": "python",
   "name": "python3"
  },
  "language_info": {
   "codemirror_mode": {
    "name": "ipython",
    "version": 3
   },
   "file_extension": ".py",
   "mimetype": "text/x-python",
   "name": "python",
   "nbconvert_exporter": "python",
   "pygments_lexer": "ipython3",
   "version": "3.8.10"
  },
  "orig_nbformat": 4
 },
 "nbformat": 4,
 "nbformat_minor": 2
}
