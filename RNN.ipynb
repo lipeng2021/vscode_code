{
 "cells": [
  {
   "cell_type": "code",
   "execution_count": 83,
   "metadata": {},
   "outputs": [],
   "source": [
    "import torch\n",
    "import torch.nn as nn\n",
    "import zipfile\n",
    "import random\n",
    "device = torch.device('cuda'if torch.cuda.is_available()else 'cpu')\n",
    "import numpy as np\n"
   ]
  },
  {
   "cell_type": "code",
   "execution_count": 84,
   "metadata": {},
   "outputs": [],
   "source": [
    "def load_data_lyrics():\n",
    "    with zipfile.ZipFile('/home/data/jaychou_lyrics.txt.zip') as zin:\n",
    "        with zin.open('jaychou_lyrics.txt') as f:\n",
    "            chorpus_chars = f.read().decode('utf-8')\n",
    "    chorpus_chars = chorpus_chars.replace('\\n',' ').replace('\\r',' ')\n",
    "    chorpus_chars = chorpus_chars[:10000]\n",
    "    char_to_idx = list(set(chorpus_chars))\n",
    "    idx_to_char = dict([(char,i)for i,char in enumerate(char_to_idx)])\n",
    "    vocab_size = len(char_to_idx)\n",
    "    chorpus_indices = (idx_to_char[char]for char in chorpus_chars)\n",
    "    return char_to_idx,idx_to_char,vocab_size,chorpus_indices\n",
    "    "
   ]
  },
  {
   "cell_type": "code",
   "execution_count": 85,
   "metadata": {},
   "outputs": [],
   "source": [
    "def data_iter_random(chorpus_indices,batch_sizes,num_steps,device = None):\n",
    "    if device==None:\n",
    "        device = torch.device('cuda'if torch.cuda.is_available()else 'cpu')\n",
    "    num_exampls = (len(chorpus_indices)-1)//num_steps\n",
    "    num_epochs = num_exampls // batch_sizes\n",
    "    num_indices = list(range(num_exampls))\n",
    "    random.shuffle(num_indices)\n",
    "    print('num_indices',num_indices)\n",
    "    def _data(pos):\n",
    "        return chorpus_indices[pos:pos+num_steps]\n",
    "    for i in range(num_epochs):\n",
    "        i = i*batch_sizes\n",
    "        batch_indices = num_indices[i:i+batch_sizes]\n",
    "        x = [_data(j*num_steps) for j in batch_indices]\n",
    "        y = [_data(j*num_steps+1)for j in batch_indices]\n",
    "        yield torch.tensor(x,dtype=torch.float32,device=device),torch.tensor(y,dtype=torch.float32,device=device)"
   ]
  },
  {
   "cell_type": "code",
   "execution_count": 86,
   "metadata": {},
   "outputs": [
    {
     "name": "stdout",
     "output_type": "stream",
     "text": [
      "[0, 1, 2, 3, 4, 5, 6, 7, 8, 9, 10, 11, 12, 13, 14, 15, 16, 17, 18, 19, 20, 21, 22, 23, 24, 25, 26, 27, 28, 29]\n",
      "num_indices [2, 0, 1, 3]\n",
      "tensor([[12., 13., 14., 15., 16., 17.],\n",
      "        [ 0.,  1.,  2.,  3.,  4.,  5.]]) tensor([[13., 14., 15., 16., 17., 18.],\n",
      "        [ 1.,  2.,  3.,  4.,  5.,  6.]])\n",
      "tensor([[ 6.,  7.,  8.,  9., 10., 11.],\n",
      "        [18., 19., 20., 21., 22., 23.]]) tensor([[ 7.,  8.,  9., 10., 11., 12.],\n",
      "        [19., 20., 21., 22., 23., 24.]])\n"
     ]
    }
   ],
   "source": [
    "x = list(range(30))\n",
    "print(x)\n",
    "for x,y in data_iter_random(x,2,6):\n",
    "    print(x,y)"
   ]
  },
  {
   "cell_type": "code",
   "execution_count": 87,
   "metadata": {},
   "outputs": [],
   "source": [
    "char_to_idx,idx_to_char,vocab_size,chorpus_indices = load_data_lyrics()\n",
    "def one_hot(x,n_class,dtype=torch.float32):\n",
    "    x = x.long()\n",
    "    res = torch.zeros(x.shape[0],n_class,dtype=dtype,device=x.device)\n",
    "    res.scatter_(1,x.view(-1,1),1)\n",
    "    return res"
   ]
  },
  {
   "cell_type": "code",
   "execution_count": 88,
   "metadata": {},
   "outputs": [],
   "source": [
    "def to_hot(x,n_class):\n",
    "    return [one_hot(x[:,i],n_class)for i in range(x.shape[1])]"
   ]
  },
  {
   "cell_type": "code",
   "execution_count": 89,
   "metadata": {},
   "outputs": [
    {
     "name": "stdout",
     "output_type": "stream",
     "text": [
      "train on: cpu\n"
     ]
    }
   ],
   "source": [
    "num_inputs,num_hiddens,num_outputs = vocab_size,256,vocab_size\n",
    "print('train on:',device)\n",
    "def get_param():\n",
    "    def _one(shape):\n",
    "        ts = torch.tensor(np.random.normal(0,0.01,size=shape),dtype=torch.float32,device=device)\n",
    "        return nn.Parameter(ts,requires_grad=True)\n",
    "    w_xh = _one((num_inputs,num_hiddens))\n",
    "    w_hh = _one((num_hiddens,num_hiddens))\n",
    "    b_h = nn.Parameter(torch.zeros(num_hiddens,requires_grad=True,device=device,dtype=torch.float32))\n",
    "    w_hq = _one((num_hiddens,num_outputs))\n",
    "    b_q = nn.Parameter(torch.zeros(num_outputs,requires_grad=True,device=device,dtype=torch.float32))\n",
    "    return nn.ParameterList([w_xh,w_hh,b_h,w_hq,b_q])"
   ]
  },
  {
   "cell_type": "markdown",
   "metadata": {},
   "source": [
    "初始化隐藏状态"
   ]
  },
  {
   "cell_type": "code",
   "execution_count": 119,
   "metadata": {},
   "outputs": [],
   "source": [
    "def init_rnn_states(batch_size,num_hiddens,device):\n",
    "    return (torch.zeros((batch_size,num_hiddens),device=device))"
   ]
  },
  {
   "cell_type": "code",
   "execution_count": 138,
   "metadata": {},
   "outputs": [],
   "source": [
    "def rnn(inputs,state,params):\n",
    "    w_xh,w_hh,b_h,w_hq,b_q=params\n",
    "    H = state\n",
    "    outputs = []\n",
    "    for X in inputs:\n",
    "        H = torch.matmul(X,w_xh)+torch.matmul(H,w_hh)+b_h\n",
    "        H = torch.tanh(H)\n",
    "        o = torch.matmul(H,w_hq)+b_q\n",
    "        outputs.append(o)\n",
    "    return outputs,(H)"
   ]
  },
  {
   "cell_type": "code",
   "execution_count": 125,
   "metadata": {},
   "outputs": [
    {
     "name": "stdout",
     "output_type": "stream",
     "text": [
      "5 torch.Size([2, 1027]) torch.Size([2, 256])\n"
     ]
    }
   ],
   "source": [
    "X = torch.arange(10).view(2,5)\n",
    "state = init_rnn_states(X.shape[0],num_hiddens,device)\n",
    "inputs = to_hot(X.to(device),vocab_size)\n",
    "params = get_param()\n",
    "outputs,state_new = rnn(inputs,state,params)\n",
    "print(len(outputs),outputs[0].shape,state_new[0].shape)"
   ]
  },
  {
   "cell_type": "code",
   "execution_count": 141,
   "metadata": {},
   "outputs": [],
   "source": [
    "def predict_rnn(prefix,num_chars,rnn,params,init_rnn_states,num_hiddens,vocab_size,device,idx_to_char,char_to_idx):\n",
    "    state = init_rnn_states(1,num_hiddens,device)\n",
    "    output = [idx_to_char[prefix[0]]]\n",
    "    for t in range(num_chars+len(prefix)-1):\n",
    "        X = to_hot(torch.tensor([[output[-1]]],device=device),vocab_size)\n",
    "        (Y,state) = rnn(X,state,params)\n",
    "        if t <len(prefix)-1:\n",
    "            output.append(idx_to_char[prefix[t+1]])\n",
    "        else:\n",
    "            output.append(int(Y[0].argmax(dim=1).item()))\n",
    "    return ''.join([char_to_idx[i]for i in output])\n",
    "     "
   ]
  },
  {
   "cell_type": "code",
   "execution_count": 144,
   "metadata": {},
   "outputs": [
    {
     "name": "stdout",
     "output_type": "stream",
     "text": [
      "0\n",
      "491\n",
      "1\n",
      "2\n",
      "3\n",
      "4\n",
      "5\n",
      "6\n",
      "7\n",
      "8\n",
      "9\n",
      "10\n"
     ]
    },
    {
     "data": {
      "text/plain": [
       "'爱情故朵前爸步们便加u茶'"
      ]
     },
     "execution_count": 144,
     "metadata": {},
     "output_type": "execute_result"
    }
   ],
   "source": [
    "predict_rnn('爱情',10,rnn,params,init_rnn_states,num_hiddens,vocab_size,device,idx_to_char,char_to_idx)"
   ]
  }
 ],
 "metadata": {
  "interpreter": {
   "hash": "2f394aca7ca06fed1e6064aef884364492d7cdda3614a461e02e6407fc40ba69"
  },
  "kernelspec": {
   "display_name": "Python 3.8.10 ('base')",
   "language": "python",
   "name": "python3"
  },
  "language_info": {
   "codemirror_mode": {
    "name": "ipython",
    "version": 3
   },
   "file_extension": ".py",
   "mimetype": "text/x-python",
   "name": "python",
   "nbconvert_exporter": "python",
   "pygments_lexer": "ipython3",
   "version": "3.8.10"
  },
  "orig_nbformat": 4
 },
 "nbformat": 4,
 "nbformat_minor": 2
}
