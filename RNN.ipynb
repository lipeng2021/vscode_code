{
 "cells": [
  {
   "cell_type": "code",
   "execution_count": 2,
   "metadata": {},
   "outputs": [],
   "source": [
    "import torch\n",
    "import torch.nn as nn\n",
    "import zipfile\n",
    "import random\n",
    "device = torch.device('cuda'if torch.cuda.is_available()else 'cpu')\n",
    "import numpy as np\n",
    "import time\n",
    "import math\n"
   ]
  },
  {
   "cell_type": "code",
   "execution_count": 3,
   "metadata": {},
   "outputs": [],
   "source": [
    "def load_data_lyrics():\n",
    "    with zipfile.ZipFile('/home/data/jaychou_lyrics.txt.zip') as zin:\n",
    "        with zin.open('jaychou_lyrics.txt') as f:\n",
    "            chorpus_chars = f.read().decode('utf-8')\n",
    "    chorpus_chars = chorpus_chars.replace('\\n',' ').replace('\\r',' ')\n",
    "    chorpus_chars = chorpus_chars[:10000]\n",
    "    char_to_idx = list(set(chorpus_chars))\n",
    "    idx_to_char = dict([(char,i)for i,char in enumerate(char_to_idx)])\n",
    "    vocab_size = len(char_to_idx)\n",
    "    chorpus_indices = [idx_to_char[char]for char in chorpus_chars]\n",
    "    return char_to_idx,idx_to_char,vocab_size,chorpus_indices\n",
    "    "
   ]
  },
  {
   "cell_type": "code",
   "execution_count": 4,
   "metadata": {},
   "outputs": [],
   "source": [
    "def data_iter_random(chorpus_indices,batch_sizes,num_steps,device = None):\n",
    "    if device==None:\n",
    "        device = torch.device('cuda'if torch.cuda.is_available()else 'cpu')\n",
    "    num_exampls = (len(chorpus_indices)-1)//num_steps\n",
    "    num_epochs = num_exampls // batch_sizes\n",
    "    num_indices = list(range(num_exampls))\n",
    "    random.shuffle(num_indices)\n",
    "    def _data(pos):\n",
    "        return chorpus_indices[pos:pos+num_steps]\n",
    "    for i in range(num_epochs):\n",
    "        i = i*batch_sizes\n",
    "        batch_indices = num_indices[i:i+batch_sizes]\n",
    "        x = [_data(j*num_steps) for j in batch_indices]\n",
    "        y = [_data(j*num_steps+1)for j in batch_indices]\n",
    "        yield torch.tensor(x,dtype=torch.float32,device=device),torch.tensor(y,dtype=torch.float32,device=device)"
   ]
  },
  {
   "cell_type": "code",
   "execution_count": 5,
   "metadata": {},
   "outputs": [],
   "source": [
    "def data_iter_consecutive(corpus_indices,batch_size,num_steps,device=None):\n",
    "  if device==None:\n",
    "    device = torch.device('cuda'if (torch.cuda.is_available())else 'cpu')\n",
    "  corpus_indices = torch.tensor(corpus_indices,dtype=torch.float32,device=device)\n",
    "  data_len = len(corpus_indices)\n",
    "  print('data_len:',data_len)\n",
    "  batch_len = data_len//batch_size\n",
    "  print('batch_len:',batch_len)\n",
    "  indices =corpus_indices[0:batch_size*batch_len].view(batch_size,batch_len)\n",
    "  print('indices',indices)\n",
    "  epoch_size = (batch_len-1)//num_steps\n",
    "  print('epoch_size',epoch_size)\n",
    "  for i in range(epoch_size):\n",
    "    i = i*num_steps\n",
    "    X = indices[:,i:i+num_steps]\n",
    "    Y = indices[:,i+1:i+num_steps+1]\n",
    "    yield X,Y"
   ]
  },
  {
   "cell_type": "code",
   "execution_count": 6,
   "metadata": {},
   "outputs": [
    {
     "name": "stdout",
     "output_type": "stream",
     "text": [
      "[0, 1, 2, 3, 4, 5, 6, 7, 8, 9, 10, 11, 12, 13, 14, 15, 16, 17, 18, 19, 20, 21, 22, 23, 24, 25, 26, 27, 28, 29]\n",
      "tensor([[ 6.,  7.,  8.,  9., 10., 11.],\n",
      "        [ 0.,  1.,  2.,  3.,  4.,  5.]], device='cuda:0') tensor([[ 7.,  8.,  9., 10., 11., 12.],\n",
      "        [ 1.,  2.,  3.,  4.,  5.,  6.]], device='cuda:0')\n",
      "tensor([[18., 19., 20., 21., 22., 23.],\n",
      "        [12., 13., 14., 15., 16., 17.]], device='cuda:0') tensor([[19., 20., 21., 22., 23., 24.],\n",
      "        [13., 14., 15., 16., 17., 18.]], device='cuda:0')\n"
     ]
    }
   ],
   "source": [
    "x = list(range(30))\n",
    "print(x)\n",
    "for x,y in data_iter_random(x,2,6):\n",
    "    print(x,y)"
   ]
  },
  {
   "cell_type": "code",
   "execution_count": 7,
   "metadata": {},
   "outputs": [],
   "source": [
    "char_to_idx,idx_to_char,vocab_size,chorpus_indices = load_data_lyrics()\n",
    "def one_hot(x,n_class,dtype=torch.float32):\n",
    "    x = x.long()\n",
    "    res = torch.zeros(x.shape[0],n_class,dtype=dtype,device=x.device)\n",
    "    res.scatter_(1,x.view(-1,1),1)\n",
    "    return res"
   ]
  },
  {
   "cell_type": "code",
   "execution_count": 8,
   "metadata": {},
   "outputs": [],
   "source": [
    "def to_hot(x,n_class):\n",
    "    return [one_hot(x[:,i],n_class)for i in range(x.shape[1])]"
   ]
  },
  {
   "cell_type": "code",
   "execution_count": 9,
   "metadata": {},
   "outputs": [
    {
     "name": "stdout",
     "output_type": "stream",
     "text": [
      "train on: cuda\n"
     ]
    }
   ],
   "source": [
    "num_inputs,num_hiddens,num_outputs = vocab_size,256,vocab_size\n",
    "print('train on:',device)\n",
    "def get_params():\n",
    "    def _one(shape):\n",
    "        ts = torch.tensor(np.random.normal(0,0.01,size=shape),dtype=torch.float32,device=device)\n",
    "        return nn.Parameter(ts,requires_grad=True)\n",
    "    w_xh = _one((num_inputs,num_hiddens))\n",
    "    w_hh = _one((num_hiddens,num_hiddens))\n",
    "    b_h = nn.Parameter(torch.zeros(num_hiddens,requires_grad=True,device=device,dtype=torch.float32))\n",
    "    w_hq = _one((num_hiddens,num_outputs))\n",
    "    b_q = nn.Parameter(torch.zeros(num_outputs,requires_grad=True,device=device,dtype=torch.float32))\n",
    "    return nn.ParameterList([w_xh,w_hh,b_h,w_hq,b_q])"
   ]
  },
  {
   "cell_type": "markdown",
   "metadata": {},
   "source": [
    "初始化隐藏状态"
   ]
  },
  {
   "cell_type": "code",
   "execution_count": 10,
   "metadata": {},
   "outputs": [],
   "source": [
    "def init_rnn_states(batch_size,num_hiddens,device):\n",
    "    return (torch.zeros((batch_size,num_hiddens),device=device))"
   ]
  },
  {
   "cell_type": "code",
   "execution_count": 11,
   "metadata": {},
   "outputs": [],
   "source": [
    "def rnn(inputs,state,params):\n",
    "    w_xh,w_hh,b_h,w_hq,b_q=params\n",
    "    H = state\n",
    "    outputs = []\n",
    "    for X in inputs:\n",
    "        H = torch.matmul(X,w_xh)+torch.matmul(H,w_hh)+b_h\n",
    "        H = torch.tanh(H)\n",
    "        o = torch.matmul(H,w_hq)+b_q\n",
    "        outputs.append(o)\n",
    "    return outputs,(H)"
   ]
  },
  {
   "cell_type": "code",
   "execution_count": 12,
   "metadata": {},
   "outputs": [
    {
     "name": "stdout",
     "output_type": "stream",
     "text": [
      "5 torch.Size([2, 1027]) torch.Size([256])\n"
     ]
    }
   ],
   "source": [
    "X = torch.arange(10).view(2,5)\n",
    "state = init_rnn_states(X.shape[0],num_hiddens,device)\n",
    "inputs = to_hot(X.to(device),vocab_size)\n",
    "params = get_params()\n",
    "outputs,state_new = rnn(inputs,state,params)\n",
    "print(len(outputs),outputs[0].shape,state_new[0].shape)"
   ]
  },
  {
   "cell_type": "code",
   "execution_count": 13,
   "metadata": {},
   "outputs": [],
   "source": [
    "def predict_rnn(prefix,num_chars,rnn,params,init_rnn_states,num_hiddens,vocab_size,device,idx_to_char,char_to_idx):\n",
    "    state = init_rnn_states(1,num_hiddens,device)\n",
    "    output = [idx_to_char[prefix[0]]]\n",
    "    for t in range(num_chars+len(prefix)-1):\n",
    "        X = to_hot(torch.tensor([[output[-1]]],device=device),vocab_size)\n",
    "        (Y,state) = rnn(X,state,params)\n",
    "        if t <len(prefix)-1:\n",
    "            output.append(idx_to_char[prefix[t+1]])\n",
    "        else:\n",
    "            output.append(int(Y[0].argmax(dim=1).item()))\n",
    "    return ''.join([char_to_idx[i]for i in output])\n",
    "     "
   ]
  },
  {
   "cell_type": "code",
   "execution_count": 14,
   "metadata": {},
   "outputs": [
    {
     "data": {
      "text/plain": [
       "'爱情忠典约朵或烛荒枝镇物'"
      ]
     },
     "execution_count": 14,
     "metadata": {},
     "output_type": "execute_result"
    }
   ],
   "source": [
    "predict_rnn('爱情',10,rnn,params,init_rnn_states,num_hiddens,vocab_size,device,idx_to_char,char_to_idx)"
   ]
  },
  {
   "cell_type": "code",
   "execution_count": 15,
   "metadata": {},
   "outputs": [],
   "source": [
    "def grad_clipping(params,theta,device):\n",
    "    norm = torch.tensor([0.0],device=device)\n",
    "    for param in params:\n",
    "        norm += (param.grad.data**2).sum()\n",
    "    norm = norm.sqrt().item()\n",
    "    if norm > theta:\n",
    "        for param in params:\n",
    "            param.grad.data *= (theta/norm)"
   ]
  },
  {
   "cell_type": "code",
   "execution_count": 25,
   "metadata": {},
   "outputs": [],
   "source": [
    "def sgd(params,lr,batch_size):\n",
    "    for param in params:\n",
    "        param.data -=(lr*param.grad)/batch_size"
   ]
  },
  {
   "cell_type": "code",
   "execution_count": 26,
   "metadata": {},
   "outputs": [],
   "source": [
    "def train_and_predict_rnn(rnn,get_params,init_rnn_states,num_hiddens,vocab_size,device,chorpus_indices,char_to_idx,idx_to_char,is_random_iter,num_epochs,num_steps,lr,clipping_theta,batch_size,pred_period,pred_len,prefixes):\n",
    "    if is_random_iter:\n",
    "        data_iter_fn = data_iter_random\n",
    "    else:\n",
    "        data_iter_fn = data_iter_consecutive\n",
    "    params = get_params()\n",
    "    loss = nn.CrossEntropyLoss()\n",
    "    for epoch in range(num_epochs):\n",
    "        if not is_random_iter:\n",
    "            state = init_rnn_states(batch_size,num_hiddens,device)\n",
    "        l_sum = 0.0\n",
    "        n = 0\n",
    "        start = time.time()\n",
    "        data_iter = data_iter_fn(chorpus_indices,batch_size,num_steps,device)\n",
    "        for X,Y in data_iter:\n",
    "            if is_random_iter:\n",
    "                state = init_rnn_states(batch_size,num_hiddens,device)\n",
    "            else:\n",
    "                for s in state:\n",
    "                    s.detach()\n",
    "            inputs = to_hot(X,vocab_size)\n",
    "            (outputs,state) = rnn(inputs,state,params)\n",
    "            outputs = torch.cat(outputs,dim=0)\n",
    "            y = torch.transpose(Y,0,1).contiguous().view(-1)\n",
    "            l = loss(outputs,y.long())\n",
    "            if params[0].grad is not None:\n",
    "                for param in params:\n",
    "                    param.grad.data.zero_()\n",
    "            l.backward()\n",
    "            grad_clipping(params,clipping_theta,device)\n",
    "            sgd(params,lr,1)\n",
    "            l_sum += l.item()*y.shape[0]\n",
    "            n +=y.shape[0]\n",
    "        if (epoch+1)%pred_period ==0:\n",
    "            print('n_sum:',n)\n",
    "            print('epoch:%d,perplexity:%f,time:%.1f sec'%(epoch+1,math.exp(l_sum/n),time.time()-start))\n",
    "            for prefix in prefixes:\n",
    "                print('-',predict_rnn(prefix,pred_len,rnn,params,init_rnn_states,num_hiddens,vocab_size,device,idx_to_char,char_to_idx))"
   ]
  },
  {
   "cell_type": "code",
   "execution_count": 27,
   "metadata": {},
   "outputs": [
    {
     "name": "stdout",
     "output_type": "stream",
     "text": [
      "n_sum: 8960\n",
      "epoch:50,perplexity:66.225034,time:0.2 sec\n",
      "- 分开 我想要这你 我不 我不 我不要的可爱女人 坏坏的让我疯狂的可爱女人 坏坏的让我疯狂的可爱女人 坏坏\n",
      "- 不分开 我想要你想 我不 我不 我不要的可爱女人 坏坏的让我疯狂的可爱女人 坏坏的让我疯狂的可爱女人 坏坏\n",
      "n_sum: 8960\n",
      "epoch:100,perplexity:9.821331,time:0.1 sec\n",
      "- 分开 一只两 三颗眼颗三的四步 连乡线一只荒芜 我说要 二你我 我想就你样  没有一起太义 你多了双截棍\n",
      "- 不分开堡 我不能再想 我不 我不 我不要再想 我不 我不 我不要再想你 不知不觉 你已经离开我 不知 你想\n",
      "n_sum: 8960\n",
      "epoch:150,perplexity:2.662118,time:0.1 sec\n",
      "- 分开 有蟑在人潮 仙人它在抽 有里什么奇 不爽就著走 这里什么奇 不爽就 说在箱 是属我一脚踢白 快使的\n",
      "- 不分开扫 我叫你爸 你知我妈 这样对吗 不去再  我有手烦你很你奔 将念像不了口让她知道 我一定会呵护著你\n",
      "n_sum: 8960\n",
      "epoch:200,perplexity:1.520330,time:0.1 sec\n",
      "- 分开 有蟑都不过 这静懂在天 别分不要走 三对三斗牛 有不懂  全我有从不 让我去红 我爱得将别奏 我知\n",
      "- 不分开期 我叫你爸 你打我妈 这样对吗 嘛去种  不知梦痛 疗不感动 不了感痛 没不场  不知不觉 不了再\n",
      "n_sum: 8960\n",
      "epoch:250,perplexity:1.324773,time:0.1 sec\n",
      "- 分开 有已的让丽果而苍家活 我不能再想 我不要再想 我不 我不 我不要再想你 不知不觉 你已经离开我 不\n",
      "- 不分开期 我叫你爸 你打我妈 这样对吗干嘛这样 何必让酒牵鼻子走 瞎 说底灌木着  不这你烦最堡 我只想的\n"
     ]
    }
   ],
   "source": [
    "num_epochs=250\n",
    "num_steps = 35\n",
    "batch_size = 32\n",
    "lr = 1e2\n",
    "clipping_theta = 1e-2\n",
    "pred_period = 50\n",
    "pred_len = 50\n",
    "prefixes = ['分开','不分开']\n",
    "train_and_predict_rnn(rnn,get_params,init_rnn_states,num_hiddens,vocab_size,device,chorpus_indices,char_to_idx,idx_to_char,True,num_epochs,num_steps,lr,clipping_theta,batch_size,pred_period,pred_len,prefixes)\n"
   ]
  }
 ],
 "metadata": {
  "interpreter": {
   "hash": "2f394aca7ca06fed1e6064aef884364492d7cdda3614a461e02e6407fc40ba69"
  },
  "kernelspec": {
   "display_name": "Python 3.8.10 ('base')",
   "language": "python",
   "name": "python3"
  },
  "language_info": {
   "codemirror_mode": {
    "name": "ipython",
    "version": 3
   },
   "file_extension": ".py",
   "mimetype": "text/x-python",
   "name": "python",
   "nbconvert_exporter": "python",
   "pygments_lexer": "ipython3",
   "version": "3.8.10"
  },
  "orig_nbformat": 4
 },
 "nbformat": 4,
 "nbformat_minor": 2
}
