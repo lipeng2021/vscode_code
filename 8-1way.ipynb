{
 "cells": [
  {
   "cell_type": "code",
   "execution_count": 2,
   "metadata": {},
   "outputs": [
    {
     "name": "stdout",
     "output_type": "stream",
     "text": [
      "\n",
      " def add(a,b):\n",
      "     return a+b   \n",
      "    \n",
      "def fancy_func(a,b,c,d):\n",
      "    e = add(a,b)\n",
      "    f = add(c,d)\n",
      "    g = add(e,f)\n",
      "    return  g    \n",
      "    \n",
      "    print(fancy_func(1,2,3,4))\n",
      "    \n"
     ]
    },
    {
     "ename": "IndentationError",
     "evalue": "unexpected indent (<string>, line 2)",
     "output_type": "error",
     "traceback": [
      "Traceback \u001b[0;36m(most recent call last)\u001b[0m:\n",
      "  File \u001b[1;32m\"/root/miniconda3/lib/python3.8/site-packages/IPython/core/interactiveshell.py\"\u001b[0m, line \u001b[1;32m3444\u001b[0m, in \u001b[1;35mrun_code\u001b[0m\n    exec(code_obj, self.user_global_ns, self.user_ns)\n",
      "\u001b[0;36m  File \u001b[0;32m\"/tmp/ipykernel_49484/3195918158.py\"\u001b[0;36m, line \u001b[0;32m20\u001b[0;36m, in \u001b[0;35m<module>\u001b[0;36m\u001b[0m\n\u001b[0;31m    y = compile(prog,'','exec')\u001b[0m\n",
      "\u001b[0;36m  File \u001b[0;32m\"<string>\"\u001b[0;36m, line \u001b[0;32m2\u001b[0m\n\u001b[0;31m    def add(a,b):\u001b[0m\n\u001b[0m    ^\u001b[0m\n\u001b[0;31mIndentationError\u001b[0m\u001b[0;31m:\u001b[0m unexpected indent\n"
     ]
    }
   ],
   "source": [
    "def add_str():\n",
    "    return '''\n",
    " def add(a,b):\n",
    "     return a+b   \n",
    "    '''\n",
    "def fancy_func_str():\n",
    "    return '''\n",
    "def fancy_func(a,b,c,d):\n",
    "    e = add(a,b)\n",
    "    f = add(c,d)\n",
    "    g = add(e,f)\n",
    "    return  g    \n",
    "    '''\n",
    "def evoke_str():\n",
    "    return add_str()+fancy_func_str()+'''\n",
    "    print(fancy_func(1,2,3,4))\n",
    "    '''\n",
    "prog =evoke_str()\n",
    "print(prog)\n",
    "y = compile(prog,'','exec')\n",
    "exec(y)"
   ]
  }
 ],
 "metadata": {
  "interpreter": {
   "hash": "2f394aca7ca06fed1e6064aef884364492d7cdda3614a461e02e6407fc40ba69"
  },
  "kernelspec": {
   "display_name": "Python 3.8.10 ('base')",
   "language": "python",
   "name": "python3"
  },
  "language_info": {
   "codemirror_mode": {
    "name": "ipython",
    "version": 3
   },
   "file_extension": ".py",
   "mimetype": "text/x-python",
   "name": "python",
   "nbconvert_exporter": "python",
   "pygments_lexer": "ipython3",
   "version": "3.8.10"
  },
  "orig_nbformat": 4
 },
 "nbformat": 4,
 "nbformat_minor": 2
}
