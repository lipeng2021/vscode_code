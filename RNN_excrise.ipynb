{
 "cells": [
  {
   "cell_type": "code",
   "execution_count": 74,
   "metadata": {},
   "outputs": [],
   "source": [
    "import torch \n",
    "import torch.nn as nn\n",
    "import time\n",
    "device = torch.device('cuda' if torch.cuda.is_available()else 'cpu')\n",
    "import zipfile\n",
    "import numpy as np\n",
    "import random\n",
    "import math"
   ]
  },
  {
   "cell_type": "code",
   "execution_count": 75,
   "metadata": {},
   "outputs": [],
   "source": [
    "def load_data_lyrics():\n",
    "    with zipfile.ZipFile('/home/data/jaychou_lyrics.txt.zip') as zin:\n",
    "        with zin.open('jaychou_lyrics.txt')as f:\n",
    "            corpus_chars = f.read().decode('utf-8')\n",
    "    corpus_chars = corpus_chars.replace('\\n',' ').replace('\\r',' ')\n",
    "    corpus_chars = corpus_chars[:10000]\n",
    "    idx_to_char = list(set(corpus_chars))\n",
    "    char_to_idx = dict([(char,i)for i,char in enumerate(idx_to_char)])\n",
    "    vocab_size = len(idx_to_char)\n",
    "    corpus_indices = [char_to_idx[char] for char in corpus_chars]\n",
    "    return idx_to_char,char_to_idx,vocab_size,corpus_indices"
   ]
  },
  {
   "cell_type": "code",
   "execution_count": 76,
   "metadata": {},
   "outputs": [
    {
     "data": {
      "text/plain": [
       "1027"
      ]
     },
     "execution_count": 76,
     "metadata": {},
     "output_type": "execute_result"
    }
   ],
   "source": [
    "idx_to_char,char_to_idx,vocab_size,corpus_indices = load_data_lyrics()\n",
    "vocab_size"
   ]
  },
  {
   "cell_type": "code",
   "execution_count": 77,
   "metadata": {},
   "outputs": [],
   "source": [
    "def data_iter_random(corpus_indices,batch_size,num_steps,device=None):\n",
    "    if device==None:\n",
    "        device = torch.device('cuda' if torch.cuda.is_available()else 'cpu')  \n",
    "    num_examples = (len(corpus_indices)-1)//num_steps\n",
    "    epoch_examples = num_examples//batch_size\n",
    "    example_indices = list(range(num_examples))\n",
    "    random.shuffle(example_indices)\n",
    "    def _data(pos):\n",
    "        return corpus_indices[pos:pos+num_steps]\n",
    "    for i in range(epoch_examples):\n",
    "        i = i*batch_size\n",
    "        batch_indices = example_indices[i:i+batch_size]\n",
    "        x = [_data(j*num_steps)for j in batch_indices]\n",
    "        y = [_data(j*num_steps+1)for j in batch_indices]\n",
    "        yield torch.tensor(x,dtype=torch.float32,device=device),torch.tensor(y,dtype=torch.float32,device=device)"
   ]
  },
  {
   "cell_type": "code",
   "execution_count": 78,
   "metadata": {},
   "outputs": [],
   "source": [
    "def data_iter_consecutive(corpus_indices,batch_size,num_steps,device=None):\n",
    "    if device==None:\n",
    "        device = torch.device('cuda' if torch.cuda.is_available()else 'cpu')  \n",
    "    corpus_indices = torch.tensor(corpus_indices,dtype=torch.float32,device=device)\n",
    "    data_len = len(corpus_indices)\n",
    "    batch_len = data_len//batch_size\n",
    "    indices = corpus_indices[0:batch_size*batch_len].view(batch_size,batch_len)\n",
    "    epoch_size = (batch_len-1)//num_steps\n",
    "    for i in range(epoch_size):\n",
    "        i = i*num_steps\n",
    "        X = indices[:,i:i+num_steps]\n",
    "        Y = indices[:,i+1:i+num_steps+1]\n",
    "        yield X,Y"
   ]
  },
  {
   "cell_type": "code",
   "execution_count": 79,
   "metadata": {},
   "outputs": [],
   "source": [
    "idx_to_char,char_to_idx,vocab_size,corpus_indices = load_data_lyrics()\n",
    "def one_hot(x,n_class,dtype = torch.float32):\n",
    "    x = x.long()\n",
    "    res = torch.zeros(x.shape[0],n_class,dtype=dtype,device=x.device)\n",
    "    res.scatter_(1,x.view(-1,1),1)\n",
    "    return res\n",
    "\n",
    "def to_onehot(x,n_class):\n",
    "    return [one_hot(x[:,i],n_class)for i in range(x.shape[1])]"
   ]
  },
  {
   "cell_type": "code",
   "execution_count": 80,
   "metadata": {},
   "outputs": [],
   "source": [
    "num_inputs,num_hiddens,num_outputs = vocab_size,256,vocab_size\n",
    "def get_params():\n",
    "    def _one(shape):\n",
    "        ts = torch.tensor(np.random.normal(0,0.01,size=shape),dtype=torch.float32,device=device)\n",
    "        return nn.Parameter(ts,requires_grad=True)\n",
    "    w_xh = _one((num_inputs,num_hiddens))\n",
    "    w_hh = _one((num_hiddens,num_hiddens))\n",
    "    b_h = nn.Parameter(torch.zeros(num_hiddens,requires_grad=True,device=device,dtype=torch.float32))\n",
    "    w_qh = _one((num_hiddens,num_outputs))\n",
    "    b_q = nn.Parameter(torch.zeros(num_outputs,requires_grad=True,device=device,dtype=torch.float32))\n",
    "    return nn.ParameterList([w_xh,w_hh,b_h,w_qh,b_q])"
   ]
  },
  {
   "cell_type": "code",
   "execution_count": 81,
   "metadata": {},
   "outputs": [],
   "source": [
    "def init_rnn_states(batch_size,num_hiddens,device):\n",
    "    return (torch.zeros((batch_size,num_hiddens),device=device))"
   ]
  },
  {
   "cell_type": "code",
   "execution_count": 82,
   "metadata": {},
   "outputs": [],
   "source": [
    "def rnn(inputs,state,params):\n",
    "    w_xh,w_hh,b_h,w_qh,b_q = params\n",
    "    H = state\n",
    "    outputs =[]\n",
    "    for X in inputs:\n",
    "        H = torch.matmul(X,w_xh) + torch.matmul(H,w_hh) + b_h\n",
    "        H = torch.tanh(H)\n",
    "        y_hat = torch.matmul(H,w_qh) + b_q\n",
    "        outputs.append(y_hat)\n",
    "    return outputs,H "
   ]
  },
  {
   "cell_type": "code",
   "execution_count": 83,
   "metadata": {},
   "outputs": [
    {
     "name": "stdout",
     "output_type": "stream",
     "text": [
      "[tensor([[-0.0027,  0.0022, -0.0005,  ...,  0.0016, -0.0003,  0.0020],\n",
      "        [-0.0008, -0.0002, -0.0007,  ..., -0.0017,  0.0004, -0.0007]],\n",
      "       device='cuda:0', grad_fn=<AddBackward0>), tensor([[-7.4720e-04, -1.2215e-03, -3.5665e-04,  ..., -6.8670e-04,\n",
      "         -7.5191e-05,  7.1814e-04],\n",
      "        [ 6.2710e-04,  7.5085e-04,  7.6765e-04,  ..., -4.9642e-04,\n",
      "         -2.5796e-03,  1.0057e-03]], device='cuda:0', grad_fn=<AddBackward0>), tensor([[ 1.1174e-03, -9.3348e-05,  8.4706e-04,  ..., -5.8103e-04,\n",
      "          4.9575e-04,  1.4321e-03],\n",
      "        [ 3.5850e-04,  3.9168e-04, -2.2048e-04,  ...,  1.7791e-03,\n",
      "         -1.2169e-03,  2.2792e-03]], device='cuda:0', grad_fn=<AddBackward0>), tensor([[-2.2310e-03, -3.9051e-04, -1.0407e-04,  ...,  3.1057e-03,\n",
      "         -7.4045e-04, -4.3612e-05],\n",
      "        [-4.1038e-03, -9.8064e-04,  1.7955e-04,  ...,  1.1476e-03,\n",
      "         -3.8410e-03,  4.6311e-04]], device='cuda:0', grad_fn=<AddBackward0>), tensor([[-9.7862e-05,  2.4274e-03,  2.7486e-04,  ..., -2.2465e-04,\n",
      "          1.9649e-04, -1.7207e-03],\n",
      "        [-2.0726e-03,  2.1522e-03,  1.1181e-03,  ...,  7.1893e-04,\n",
      "          6.4228e-04,  1.2205e-03]], device='cuda:0', grad_fn=<AddBackward0>)]\n",
      "tensor([[-0.0027,  0.0022, -0.0005,  ...,  0.0016, -0.0003,  0.0020],\n",
      "        [-0.0008, -0.0002, -0.0007,  ..., -0.0017,  0.0004, -0.0007]],\n",
      "       device='cuda:0', grad_fn=<AddBackward0>)\n"
     ]
    }
   ],
   "source": [
    "x = torch.arange(10).view(2,5)\n",
    "state = init_rnn_states(x.shape[0],num_hiddens,device)\n",
    "inputs = to_onehot(x.to(device),vocab_size)\n",
    "params = get_params()\n",
    "outputs,state_new = rnn(inputs,state,params)\n",
    "# print(len(outputs),outputs[0].shape,state_new[0].shape)\n",
    "print(outputs)\n",
    "print(outputs[0])"
   ]
  },
  {
   "cell_type": "code",
   "execution_count": 84,
   "metadata": {},
   "outputs": [],
   "source": [
    "def pred_rnn(prefix,num_chars,rnn,params,init_rnn_states,num_hiddens,vocab_size,device,idx_to_char,char_to_idx):\n",
    "    state = init_rnn_states(1,num_hiddens,device)\n",
    "    outputs = [char_to_idx[prefix[0]]]\n",
    "    for t in range(num_chars+len(prefix)+1):\n",
    "        X = to_onehot(torch.tensor([[outputs[-1]]],device=device),vocab_size)\n",
    "        Y,state = rnn(X,state,params)\n",
    "        if t <len(prefix)-1:\n",
    "            outputs.append(char_to_idx[prefix[t+1]])\n",
    "        else:\n",
    "            outputs.append(int(Y[0].argmax(dim=1).item()))\n",
    "    return ''.join([idx_to_char[i]for i in outputs])"
   ]
  },
  {
   "cell_type": "code",
   "execution_count": 85,
   "metadata": {},
   "outputs": [
    {
     "data": {
      "text/plain": [
       "'爱情被心婆毫闷原胸翰秒杵羞偷'"
      ]
     },
     "execution_count": 85,
     "metadata": {},
     "output_type": "execute_result"
    }
   ],
   "source": [
    "prefix = '爱情'\n",
    "pred_rnn('爱情',10,rnn,params,init_rnn_states,num_hiddens,vocab_size,device,idx_to_char,char_to_idx)"
   ]
  },
  {
   "cell_type": "code",
   "execution_count": 86,
   "metadata": {},
   "outputs": [],
   "source": [
    "def clip_gradient(params,theta,device):\n",
    "    norm = torch.tensor([0.0],device=device)\n",
    "    for param in params:\n",
    "        norm += (param.grad.data**2).sum()\n",
    "    norm = norm.sqrt().item()\n",
    "    if norm>theta:\n",
    "        for param in params:\n",
    "            param.grad.data *= (theta/norm)"
   ]
  },
  {
   "cell_type": "code",
   "execution_count": 87,
   "metadata": {},
   "outputs": [],
   "source": [
    "def sgd(params,lr,batch_size):\n",
    "    for param in params:\n",
    "        param.data -= (lr*param.grad)/batch_size"
   ]
  },
  {
   "cell_type": "code",
   "execution_count": 88,
   "metadata": {},
   "outputs": [],
   "source": [
    "def train_and_pred_rnn(rnn,get_params,init_rnn_states,num_hiddens,vocab_size,device,corpus_indices,\n",
    "                        char_to_idx,idx_to_char,is_random_iter,num_epochs,num_steps,lr,clipping_theta,batch_size,\n",
    "                        pred_period,pred_len,prefixes):\n",
    "    if is_random_iter :\n",
    "        data_iter_fn = data_iter_random\n",
    "    else:\n",
    "        data_iter_fn = data_iter_consecutive\n",
    "    params = get_params()\n",
    "    loss = nn.CrossEntropyLoss()\n",
    "    start = time.time()\n",
    "    for epoch in range(num_epochs):\n",
    "        if not is_random_iter:\n",
    "            state = init_rnn_states(batch_size,num_hiddens,device)\n",
    "        l_sum = 0.0\n",
    "        n = 0\n",
    "        data_iter = data_iter_fn(corpus_indices,batch_size,num_steps)\n",
    "        for X,y in data_iter:\n",
    "            if is_random_iter:\n",
    "                state = init_rnn_states(batch_size,num_hiddens,device)\n",
    "            else:\n",
    "                for s in state:\n",
    "                    s.detach()\n",
    "            inputs = to_onehot(X,vocab_size)\n",
    "            (y_hat,state) = rnn(inputs,state,params)\n",
    "            y_hat = torch.cat(y_hat,dim=0)\n",
    "            y = torch.transpose(y,0,1).contiguous().view(-1)\n",
    "            l = loss(y_hat,y.long())\n",
    "            if params[0].grad is not None:\n",
    "                for param in params:\n",
    "                    param.grad.data.zero_()\n",
    "            l.backward()\n",
    "            clip_gradient(params,clipping_theta,device)\n",
    "            sgd(params,lr,1)\n",
    "            l_sum += l.item()*y.shape[0]\n",
    "            n += y.shape[0]\n",
    "        if (epoch+1)%pred_period == 0:\n",
    "            print('epochs:%d,perplexity:%f,time:%.f sec'%(epoch+1,math.exp(l_sum/n),time.time()-start))\n",
    "            start = time.time()\n",
    "            for prefix in prefixes:\n",
    "                print('-',pred_rnn(prefix,pred_len,rnn,params,init_rnn_states,num_hiddens,vocab_size,device,idx_to_char,char_to_idx))\n"
   ]
  },
  {
   "cell_type": "code",
   "execution_count": 89,
   "metadata": {},
   "outputs": [
    {
     "name": "stdout",
     "output_type": "stream",
     "text": [
      "epochs:50,perplexity:68.786968,time:6 sec\n",
      "- 爱情 我想要你想 我不要再想 我不要再想 我不要再想 我不要再想 我不要再想 我不要再想 我不要再想 我不要\n",
      "- 我爱你的可爱女人 坏坏的让我疯狂的可爱女人 坏坏的让我疯狂的可爱女人 坏坏的让我疯狂的可爱女人 坏坏的让我疯狂\n",
      "epochs:100,perplexity:10.783561,time:6 sec\n",
      "- 爱情 我不要 你怎么 太九就颗三步四 干什么 干什么 一九四步三步四步望著天 看著星 一颗两颗三步四步 连成\n",
      "- 我爱你 你爱我 开我怎么我想我 别发抖 干什么 一步四步三步四步望著天 看著星 一颗两颗三步四步 连成线背著背\n",
      "epochs:150,perplexity:3.206898,time:5 sec\n",
      "- 爱情 我想 我不要 想情我的太快就像 透过兵器最喜欢 双截棍柔中带刚 想要去童南嵩事 学要 有话段考倒着你打\n",
      "- 我爱你的可爱 我想 你想要再不要 静涯尽透 你已一定热粥 我爱好好生活 不知不觉 你已经离开我 不知不觉 我跟\n",
      "epochs:200,perplexity:1.668156,time:6 sec\n",
      "- 爱情人妈 怎么我著天怪到 看来像没了你的 我说上这样牵着著 这是我都做得到 但那个人已经不是去 想著和你融化\n",
      "- 我爱你 你爱我 开不了口 周杰伦 才离开没是久就开始 担心今宇的你去也起  相袋你说别单 所有 你想再考了我 \n",
      "epochs:250,perplexity:1.375738,time:6 sec\n",
      "- 爱情人定发过 一步承 干什么 呼吸吐这系自袋 干什么 干什么 气沉吐纳心自在 干什么 干什么 气沉病纳系自袋\n",
      "- 我爱你太错 我想好这 牵小心外的溪边 默默等待 娘子 娘子 娘 再亮了 别给我抬起头 一话去对医药箱说 别怪我\n"
     ]
    }
   ],
   "source": [
    "batch_size = 35\n",
    "num_steps = 32\n",
    "lr = 1e2\n",
    "clipping_theta = 1e-2\n",
    "num_epochs =250\n",
    "pred_period = 50\n",
    "pred_len = 50\n",
    "prefixes = ['爱情','我爱你']\n",
    "train_and_pred_rnn(rnn,get_params,init_rnn_states,num_hiddens,vocab_size,device,corpus_indices,char_to_idx,idx_to_char,True,num_epochs,num_steps,lr,clipping_theta,batch_size,pred_period,pred_len,prefixes)\n",
    "\n",
    "\n",
    "\n"
   ]
  }
 ],
 "metadata": {
  "interpreter": {
   "hash": "2f394aca7ca06fed1e6064aef884364492d7cdda3614a461e02e6407fc40ba69"
  },
  "kernelspec": {
   "display_name": "Python 3.8.10 ('base')",
   "language": "python",
   "name": "python3"
  },
  "language_info": {
   "codemirror_mode": {
    "name": "ipython",
    "version": 3
   },
   "file_extension": ".py",
   "mimetype": "text/x-python",
   "name": "python",
   "nbconvert_exporter": "python",
   "pygments_lexer": "ipython3",
   "version": "3.8.10"
  },
  "orig_nbformat": 4
 },
 "nbformat": 4,
 "nbformat_minor": 2
}
